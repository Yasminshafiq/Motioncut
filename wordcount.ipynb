{
 "cells": [
  {
   "cell_type": "code",
   "execution_count": 1,
   "id": "96c382b0-2d91-46d3-82b2-c6df4916f1e6",
   "metadata": {},
   "outputs": [
    {
     "name": "stdin",
     "output_type": "stream",
     "text": [
      "Enter a sentence or paragraph:  PYTHON IS THE EASIEST PROGRAMMING LANGUAGE \n"
     ]
    },
    {
     "name": "stdout",
     "output_type": "stream",
     "text": [
      "The number of words in the given text is: 6\n"
     ]
    }
   ],
   "source": [
    "def count_words(text):\n",
    "    # Split the text into words using spaces and count the length of the resulting list\n",
    "    words = text.split()\n",
    "    return len(words)\n",
    "\n",
    "# Main function to run the program\n",
    "def main():\n",
    "    # Prompt the user to enter a sentence or paragraph\n",
    "    user_input = input(\"Enter a sentence or paragraph: \").strip()\n",
    "\n",
    "    # Check if the input is empty and handle the error\n",
    "    if not user_input:\n",
    "        print(\"Error: You entered an empty text. Please provide a valid sentence or paragraph.\")\n",
    "    else:\n",
    "        # Call the count_words function and display the result\n",
    "        word_count = count_words(user_input)\n",
    "        print(f\"The number of words in the given text is: {word_count}\")\n",
    "\n",
    "# Entry point of the program\n",
    "if __name__ == \"__main__\":\n",
    "    main()\n"
   ]
  },
  {
   "cell_type": "code",
   "execution_count": null,
   "id": "569b5d33-1efc-4d33-bdc2-3867f581e70e",
   "metadata": {},
   "outputs": [],
   "source": []
  }
 ],
 "metadata": {
  "kernelspec": {
   "display_name": "Python 3 (ipykernel)",
   "language": "python",
   "name": "python3"
  },
  "language_info": {
   "codemirror_mode": {
    "name": "ipython",
    "version": 3
   },
   "file_extension": ".py",
   "mimetype": "text/x-python",
   "name": "python",
   "nbconvert_exporter": "python",
   "pygments_lexer": "ipython3",
   "version": "3.12.4"
  }
 },
 "nbformat": 4,
 "nbformat_minor": 5
}
